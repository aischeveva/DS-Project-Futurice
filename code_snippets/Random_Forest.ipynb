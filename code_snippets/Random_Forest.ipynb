{
 "cells": [
  {
   "cell_type": "code",
   "execution_count": 1,
   "metadata": {},
   "outputs": [
    {
     "data": {
      "text/plain": [
       "'\"\\nTask Description: \\nUse random forest classifier to reduce the topic that are unlikely to be a trend in the future.\\nBased on historical data, if the number of times a topic remains stable across all years in a certain period,\\nit is unlikely to be a trend in the future. Here we assume that historical data are sufficient to describe \\nthe change of the topic. \\n\\n'"
      ]
     },
     "execution_count": 1,
     "metadata": {},
     "output_type": "execute_result"
    }
   ],
   "source": [
    "%load_ext autoreload\n",
    "%autoreload 2\n",
    "from sklearn.tree import DecisionTreeClassifier\n",
    "from sklearn.ensemble import RandomForestClassifier\n",
    "from sklearn.model_selection import train_test_split\n",
    "from topic_classifier import *\n",
    "import warnings\n",
    "warnings.filterwarnings('ignore')\n",
    "import numpy as np\n",
    "import pandas as pd\n",
    "import joblib\n",
    "\"\"\"\"\n",
    "Task Description: \n",
    "Use random forest classifier to reduce the topic that are unlikely to be a trend in the future.\n",
    "Based on historical data, if the number of times a topic remains stable across all years in a certain period,\n",
    "it is unlikely to be a trend in the future. Here we assume that historical data are sufficient to describe \n",
    "the change of the topic. \n",
    "\n",
    "\"\"\"\"\"\n",
    "\n"
   ]
  },
  {
   "cell_type": "code",
   "execution_count": 2,
   "metadata": {},
   "outputs": [],
   "source": [
    "# Change the directory to the CSV files storage\n",
    "os.chdir(\"../web/source\")\n",
    "\n",
    "# Get the data for training the model\n",
    "vehicles_sector = pd.read_csv(\"Office of Manufacturing_Vehicles.csv\").drop(columns = \"Unnamed: 0\")\n",
    "electronic_sector = pd.read_csv(\"Office of Manufacturing_ELectrical & Electronic.csv\").drop(columns = \"Unnamed: 0\")\n",
    "recreational_sector = pd.read_csv(\"Office of Trade & Services_Recreational Services.csv\").drop(columns = \"Unnamed: 0\")\n",
    "train_data = pd.concat([vehicles_sector,electronic_sector,recreational_sector],axis=1).T\n",
    "\n",
    "# Convert features to array\n",
    "features = np.array(train_data)\n",
    "\n",
    "# Manually label the expected target of training data \n",
    "# Here we assume those which differ by at least 10 units over years are trends and thus kept\n",
    "labels_vehicles = np.array([0,0,0,0,1,0,0,1,0,0,0,0,1,0,0])\n",
    "labels_electronic = np.array([0,0,0,0,0,0,0,0,0,0,0,1,0,0,0,0,0,0,1,0])\n",
    "labels_recreational = np.array([0,0,0,0,0,0,0,0,0,0,0,1,1,0,1,0,0,1])\n",
    "\n",
    "labels = np.concatenate([labels_vehicles, labels_electronic, labels_recreational])"
   ]
  },
  {
   "cell_type": "code",
   "execution_count": 3,
   "metadata": {},
   "outputs": [],
   "source": [
    "# Split the data into training set and testing set\n",
    "train_features, test_features, train_labels, test_labels = train_test_split(features, labels, test_size = 0.25, random_state = 66)"
   ]
  },
  {
   "cell_type": "code",
   "execution_count": 4,
   "metadata": {},
   "outputs": [],
   "source": [
    "# Change the directory to the code storage (code snippets)\n",
    "os.chdir(\"../../code_snippets\")"
   ]
  },
  {
   "cell_type": "code",
   "execution_count": 5,
   "metadata": {},
   "outputs": [
    {
     "name": "stdout",
     "output_type": "stream",
     "text": [
      "Accuracy:  93.0 %\n"
     ]
    },
    {
     "data": {
      "text/plain": [
       "['random_forest_classifier_model.sav']"
      ]
     },
     "execution_count": 5,
     "metadata": {},
     "output_type": "execute_result"
    }
   ],
   "source": [
    "# Build a forest of trees from the training set (train_data, train_label). \n",
    "# The algorithm learns to derive the relationship between the feature and targets(label)\n",
    "rfc = RandomForestClassifier(n_estimators=100, max_depth=3,random_state=42)\n",
    "rfc.fit(train_features, train_labels)\n",
    "predictions = rfc.predict(test_features)\n",
    "\n",
    "# Test the accuracy of the model \n",
    "accuracy = rfc.score(test_features, test_labels)\n",
    "print(\"Accuracy: \", round(accuracy,2) * 100, '%')\n",
    "\n",
    "# Save the model \n",
    "filename = 'random_forest_classifier_model.sav'\n",
    "joblib.dump(rfc, filename)"
   ]
  },
  {
   "cell_type": "code",
   "execution_count": 6,
   "metadata": {},
   "outputs": [
    {
     "name": "stdout",
     "output_type": "stream",
     "text": [
      "Classifying Office of Trade & Services_Wholesale\n",
      "Classifying Office of Manufacturing_Vehicles\n",
      "Classifying Office of Trade & Services_Miscellaneous Services\n",
      "Classifying Office of Life Sciences_Measure & Control\n",
      "Classifying Office of Manufacturing_Non-Metals\n",
      "Classifying Office of Trade & Services_Social Services\n",
      "Classifying Office of Life Sciences_Agriculture\n",
      "Classifying Office of Life Sciences_Chemicals\n",
      "Classifying Office of Technology_Computer Software\n",
      "Classifying Office of Trade & Services_Recreational Services\n",
      "Classifying Office of Trade & Services_Retail\n",
      "Classifying Office of Manufacturing_Paper & Printing\n",
      "Classifying Office of Life Sciences_Medical Services\n",
      "Classifying Office of Real Estate & Construction_Construction\n",
      "Classifying Office of Energy & Transportation_Transportation\n",
      "Classifying Office of Technology_Computer Hardware\n",
      "Classifying Office of Energy & Transportation_Petroleum & Coal\n",
      "Classifying Office of Energy & Transportation_Power & Energy\n",
      "Classifying Office of Trade & Services_Advertising Services\n",
      "Classifying Office of Trade & Services_Business Services\n",
      "Classifying Office of Trade & Services_Management Services\n",
      "Classifying Office of Manufacturing_Textiles\n",
      "Classifying Office of Technology_Telecommunication\n",
      "Classifying Office of Manufacturing_Metals\n",
      "Classifying Office of Life Sciences_Medical Apparatus\n",
      "Classifying Office of Trade & Services_Research & Engineering Services\n",
      "Classifying Office of Manufacturing_Furniture\n",
      "Classifying Office of Manufacturing_Art\n",
      "Classifying Office of Technology_Machinery & Equipment\n",
      "Classifying Office of Energy & Transportation_Mining\n",
      "Classifying Office of Finance_Insurance\n",
      "Classifying Office of Finance_Trade & Investment\n",
      "Classifying Office of Manufacturing_ELectrical & Electronic\n",
      "Classifying Office of Finance_Bankings\n",
      "Classifying Office of Manufacturing_Foods & Beverages\n"
     ]
    }
   ],
   "source": [
    "# Classify the remaining unseen sectors\n",
    "topic_classifier()"
   ]
  },
  {
   "cell_type": "code",
   "execution_count": null,
   "metadata": {},
   "outputs": [],
   "source": []
  }
 ],
 "metadata": {
  "kernelspec": {
   "display_name": "Python 3",
   "language": "python",
   "name": "python3"
  },
  "language_info": {
   "codemirror_mode": {
    "name": "ipython",
    "version": 3
   },
   "file_extension": ".py",
   "mimetype": "text/x-python",
   "name": "python",
   "nbconvert_exporter": "python",
   "pygments_lexer": "ipython3",
   "version": "3.7.3"
  }
 },
 "nbformat": 4,
 "nbformat_minor": 2
}
