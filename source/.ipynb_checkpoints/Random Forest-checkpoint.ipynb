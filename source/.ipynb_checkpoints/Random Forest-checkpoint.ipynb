{
 "cells": [
  {
   "cell_type": "code",
   "execution_count": 1,
   "metadata": {},
   "outputs": [
    {
     "data": {
      "text/plain": [
       "'\"\\nTask 1: Use random forest classifier to reduce the topic that are unlikely to be a trend in the future.\\nBased on historical data, if the number of times a topic remains stable across all years in a certain period,\\nit is unlikely to be a trend in the future. Here we assume that historical data are sufficient to describe \\nthe change of the topic. \\n\\nTask 2: Use random forest regression to predict how many times a trend is mentioned in the future. Trends that are\\nmentioned the most are likely to be the hottest. \\n\\n'"
      ]
     },
     "execution_count": 1,
     "metadata": {},
     "output_type": "execute_result"
    }
   ],
   "source": [
    "%load_ext autoreload\n",
    "%autoreload 2\n",
    "from sklearn.tree import DecisionTreeClassifier\n",
    "from sklearn.ensemble import RandomForestClassifier\n",
    "from sklearn.model_selection import train_test_split\n",
    "import numpy as np\n",
    "import pandas as pd\n",
    "import joblib\n",
    "\"\"\"\"\n",
    "Task 1: Use random forest classifier to reduce the topic that are unlikely to be a trend in the future.\n",
    "Based on historical data, if the number of times a topic remains stable across all years in a certain period,\n",
    "it is unlikely to be a trend in the future. Here we assume that historical data are sufficient to describe \n",
    "the change of the topic. \n",
    "\n",
    "Task 2: Use random forest regression to predict how many times a trend is mentioned in the future. Trends that are\n",
    "mentioned the most are likely to be the hottest. \n",
    "\n",
    "\"\"\"\"\"\n"
   ]
  },
  {
   "cell_type": "code",
   "execution_count": 2,
   "metadata": {},
   "outputs": [],
   "source": [
    "#Training data\n",
    "vehicles_sector = pd.read_csv(\"Office of Manufacturing_Vehicles.csv\").drop(columns = \"Unnamed: 0\")\n",
    "electronic_sector = pd.read_csv(\"Office of Manufacturing_ELectrical & Electronic.csv\").drop(columns = \"Unnamed: 0\")\n",
    "recreational_sector = pd.read_csv(\"Office of Trade & Services_Recreational Services.csv\").drop(columns = \"Unnamed: 0\")\n",
    "train_data = pd.concat([vehicles_sector,electronic_sector,recreational_sector],axis=1).T\n",
    "\n",
    "#Convert features to numpy\n",
    "features = np.array(train_data)\n",
    "\n",
    "#Training_label (Here we assume those which differ by at least 20 units over years are trends)\n",
    "labels_vehicles = np.array([0,0,0,0,1,0,0,1,0,0,0,0,1,0,0])\n",
    "labels_electronic = np.array([0,0,0,0,0,0,0,0,0,0,0,1,0,0,0,0,0,0,1,0])\n",
    "labels_recreational = np.array([0,0,0,0,0,0,0,0,0,0,0,1,1,0,1,0,0,1])\n",
    "\n",
    "labels = np.concatenate([labels_vehicles, labels_electronic, labels_recreational])"
   ]
  },
  {
   "cell_type": "code",
   "execution_count": 3,
   "metadata": {},
   "outputs": [],
   "source": [
    "#Split the data into training set and testing set (29 data points for training and 10 for testing)\n",
    "train_features, test_features, train_labels, test_labels = train_test_split(features, labels, test_size = 0.25, random_state = 66)"
   ]
  },
  {
   "cell_type": "code",
   "execution_count": 4,
   "metadata": {},
   "outputs": [
    {
     "data": {
      "text/plain": [
       "['finalized_model.sav']"
      ]
     },
     "execution_count": 4,
     "metadata": {},
     "output_type": "execute_result"
    }
   ],
   "source": [
    "#Build a forest of trees from the training set (train_data, train_label). \n",
    "#The algorithm learns to derive the relationship between the feature and targets(label)\n",
    "rfc = RandomForestClassifier(n_estimators=100, max_depth=3,random_state=42)\n",
    "rfc.fit(train_features, train_labels)\n",
    "predictions = rfc.predict(test_features)\n",
    "\n",
    "#Test the accuracy of the model \n",
    "rfc.score(test_features, test_labels)\n",
    "\n",
    "#Save the model \n",
    "filename = 'finalized_model.sav'\n",
    "joblib.dump(rfc, filename)"
   ]
  }
 ],
 "metadata": {
  "kernelspec": {
   "display_name": "Python 3",
   "language": "python",
   "name": "python3"
  },
  "language_info": {
   "codemirror_mode": {
    "name": "ipython",
    "version": 3
   },
   "file_extension": ".py",
   "mimetype": "text/x-python",
   "name": "python",
   "nbconvert_exporter": "python",
   "pygments_lexer": "ipython3",
   "version": "3.7.3"
  }
 },
 "nbformat": 4,
 "nbformat_minor": 2
}
